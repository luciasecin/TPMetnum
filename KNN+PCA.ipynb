{
 "cells": [
  {
   "cell_type": "code",
   "execution_count": 146,
   "id": "0bacb5e5",
   "metadata": {},
   "outputs": [],
   "source": [
    "#Importo las librerias de python que necesito\n",
    "import matplotlib.pyplot as plt\n",
    "import numpy as np\n",
    "import pandas as pd\n",
    "import random\n",
    "import time\n",
    "\n",
    "#Importo sklearn para KNN, PCA y las metricas\n",
    "from sklearn.decomposition import PCA\n",
    "from sklearn.neighbors import KNeighborsClassifier\n",
    "from sklearn.metrics import accuracy_score, cohen_kappa_score, f1_score, recall_score\n"
   ]
  },
  {
   "cell_type": "code",
   "execution_count": 147,
   "id": "38d4ee9a",
   "metadata": {
    "scrolled": true
   },
   "outputs": [
    {
     "name": "stdout",
     "output_type": "stream",
     "text": [
      "Dimensiones de base train:  (60000, 785)\n",
      "Dimensiones de base testn:  (10000, 785)\n"
     ]
    }
   ],
   "source": [
    "#Leo mi dataset\n",
    "df_train = pd.read_csv(\"data/fashion-mnist_train.csv\")\n",
    "df_test = pd.read_csv(\"data/fashion-mnist_test.csv\")\n",
    "\n",
    "print(\"Dimensiones de base train: \", df_train.shape)\n",
    "print(\"Dimensiones de base testn: \", df_test.shape)"
   ]
  },
  {
   "cell_type": "code",
   "execution_count": 148,
   "id": "fee7c424",
   "metadata": {},
   "outputs": [
    {
     "name": "stdout",
     "output_type": "stream",
     "text": [
      "Numeros de cada prenda de ropa\n"
     ]
    },
    {
     "data": {
      "text/plain": [
       "[[0, 'T-shirt/top'],\n",
       " [1, 'Trouser'],\n",
       " [2, 'Pullover'],\n",
       " [3, 'Dress'],\n",
       " [4, 'Coat'],\n",
       " [5, 'Sandal'],\n",
       " [6, 'Shirt'],\n",
       " [7, 'Sneaker'],\n",
       " [8, 'Bag'],\n",
       " [9, 'Ankle boot']]"
      ]
     },
     "execution_count": 148,
     "metadata": {},
     "output_type": "execute_result"
    }
   ],
   "source": [
    "clothes = [[0,'T-shirt/top'], [1,'Trouser'], [2,'Pullover'], [3, 'Dress'], \n",
    "           [4, 'Coat'], [5, 'Sandal'], [6, 'Shirt'], [7, 'Sneaker'], [8, 'Bag'], [9, 'Ankle boot']]\n",
    "\n",
    "print(\"Numeros de cada prenda de ropa\")\n",
    "clothes"
   ]
  },
  {
   "cell_type": "markdown",
   "id": "e24b27f9",
   "metadata": {},
   "source": [
    "## Exploracion del dataset"
   ]
  },
  {
   "cell_type": "code",
   "execution_count": 149,
   "id": "2b6a1063",
   "metadata": {
    "scrolled": true
   },
   "outputs": [
    {
     "data": {
      "text/html": [
       "<div>\n",
       "<style scoped>\n",
       "    .dataframe tbody tr th:only-of-type {\n",
       "        vertical-align: middle;\n",
       "    }\n",
       "\n",
       "    .dataframe tbody tr th {\n",
       "        vertical-align: top;\n",
       "    }\n",
       "\n",
       "    .dataframe thead th {\n",
       "        text-align: right;\n",
       "    }\n",
       "</style>\n",
       "<table border=\"1\" class=\"dataframe\">\n",
       "  <thead>\n",
       "    <tr style=\"text-align: right;\">\n",
       "      <th></th>\n",
       "      <th>label</th>\n",
       "      <th>pixel1</th>\n",
       "      <th>pixel2</th>\n",
       "      <th>pixel3</th>\n",
       "      <th>pixel4</th>\n",
       "      <th>pixel5</th>\n",
       "      <th>pixel6</th>\n",
       "      <th>pixel7</th>\n",
       "      <th>pixel8</th>\n",
       "      <th>pixel9</th>\n",
       "      <th>...</th>\n",
       "      <th>pixel775</th>\n",
       "      <th>pixel776</th>\n",
       "      <th>pixel777</th>\n",
       "      <th>pixel778</th>\n",
       "      <th>pixel779</th>\n",
       "      <th>pixel780</th>\n",
       "      <th>pixel781</th>\n",
       "      <th>pixel782</th>\n",
       "      <th>pixel783</th>\n",
       "      <th>pixel784</th>\n",
       "    </tr>\n",
       "  </thead>\n",
       "  <tbody>\n",
       "    <tr>\n",
       "      <th>0</th>\n",
       "      <td>2</td>\n",
       "      <td>0</td>\n",
       "      <td>0</td>\n",
       "      <td>0</td>\n",
       "      <td>0</td>\n",
       "      <td>0</td>\n",
       "      <td>0</td>\n",
       "      <td>0</td>\n",
       "      <td>0</td>\n",
       "      <td>0</td>\n",
       "      <td>...</td>\n",
       "      <td>0</td>\n",
       "      <td>0</td>\n",
       "      <td>0</td>\n",
       "      <td>0</td>\n",
       "      <td>0</td>\n",
       "      <td>0</td>\n",
       "      <td>0</td>\n",
       "      <td>0</td>\n",
       "      <td>0</td>\n",
       "      <td>0</td>\n",
       "    </tr>\n",
       "    <tr>\n",
       "      <th>1</th>\n",
       "      <td>9</td>\n",
       "      <td>0</td>\n",
       "      <td>0</td>\n",
       "      <td>0</td>\n",
       "      <td>0</td>\n",
       "      <td>0</td>\n",
       "      <td>0</td>\n",
       "      <td>0</td>\n",
       "      <td>0</td>\n",
       "      <td>0</td>\n",
       "      <td>...</td>\n",
       "      <td>0</td>\n",
       "      <td>0</td>\n",
       "      <td>0</td>\n",
       "      <td>0</td>\n",
       "      <td>0</td>\n",
       "      <td>0</td>\n",
       "      <td>0</td>\n",
       "      <td>0</td>\n",
       "      <td>0</td>\n",
       "      <td>0</td>\n",
       "    </tr>\n",
       "    <tr>\n",
       "      <th>2</th>\n",
       "      <td>6</td>\n",
       "      <td>0</td>\n",
       "      <td>0</td>\n",
       "      <td>0</td>\n",
       "      <td>0</td>\n",
       "      <td>0</td>\n",
       "      <td>0</td>\n",
       "      <td>0</td>\n",
       "      <td>5</td>\n",
       "      <td>0</td>\n",
       "      <td>...</td>\n",
       "      <td>0</td>\n",
       "      <td>0</td>\n",
       "      <td>0</td>\n",
       "      <td>30</td>\n",
       "      <td>43</td>\n",
       "      <td>0</td>\n",
       "      <td>0</td>\n",
       "      <td>0</td>\n",
       "      <td>0</td>\n",
       "      <td>0</td>\n",
       "    </tr>\n",
       "    <tr>\n",
       "      <th>3</th>\n",
       "      <td>0</td>\n",
       "      <td>0</td>\n",
       "      <td>0</td>\n",
       "      <td>0</td>\n",
       "      <td>1</td>\n",
       "      <td>2</td>\n",
       "      <td>0</td>\n",
       "      <td>0</td>\n",
       "      <td>0</td>\n",
       "      <td>0</td>\n",
       "      <td>...</td>\n",
       "      <td>3</td>\n",
       "      <td>0</td>\n",
       "      <td>0</td>\n",
       "      <td>0</td>\n",
       "      <td>0</td>\n",
       "      <td>1</td>\n",
       "      <td>0</td>\n",
       "      <td>0</td>\n",
       "      <td>0</td>\n",
       "      <td>0</td>\n",
       "    </tr>\n",
       "    <tr>\n",
       "      <th>4</th>\n",
       "      <td>3</td>\n",
       "      <td>0</td>\n",
       "      <td>0</td>\n",
       "      <td>0</td>\n",
       "      <td>0</td>\n",
       "      <td>0</td>\n",
       "      <td>0</td>\n",
       "      <td>0</td>\n",
       "      <td>0</td>\n",
       "      <td>0</td>\n",
       "      <td>...</td>\n",
       "      <td>0</td>\n",
       "      <td>0</td>\n",
       "      <td>0</td>\n",
       "      <td>0</td>\n",
       "      <td>0</td>\n",
       "      <td>0</td>\n",
       "      <td>0</td>\n",
       "      <td>0</td>\n",
       "      <td>0</td>\n",
       "      <td>0</td>\n",
       "    </tr>\n",
       "    <tr>\n",
       "      <th>...</th>\n",
       "      <td>...</td>\n",
       "      <td>...</td>\n",
       "      <td>...</td>\n",
       "      <td>...</td>\n",
       "      <td>...</td>\n",
       "      <td>...</td>\n",
       "      <td>...</td>\n",
       "      <td>...</td>\n",
       "      <td>...</td>\n",
       "      <td>...</td>\n",
       "      <td>...</td>\n",
       "      <td>...</td>\n",
       "      <td>...</td>\n",
       "      <td>...</td>\n",
       "      <td>...</td>\n",
       "      <td>...</td>\n",
       "      <td>...</td>\n",
       "      <td>...</td>\n",
       "      <td>...</td>\n",
       "      <td>...</td>\n",
       "      <td>...</td>\n",
       "    </tr>\n",
       "    <tr>\n",
       "      <th>59995</th>\n",
       "      <td>9</td>\n",
       "      <td>0</td>\n",
       "      <td>0</td>\n",
       "      <td>0</td>\n",
       "      <td>0</td>\n",
       "      <td>0</td>\n",
       "      <td>0</td>\n",
       "      <td>0</td>\n",
       "      <td>0</td>\n",
       "      <td>0</td>\n",
       "      <td>...</td>\n",
       "      <td>0</td>\n",
       "      <td>0</td>\n",
       "      <td>0</td>\n",
       "      <td>0</td>\n",
       "      <td>0</td>\n",
       "      <td>0</td>\n",
       "      <td>0</td>\n",
       "      <td>0</td>\n",
       "      <td>0</td>\n",
       "      <td>0</td>\n",
       "    </tr>\n",
       "    <tr>\n",
       "      <th>59996</th>\n",
       "      <td>1</td>\n",
       "      <td>0</td>\n",
       "      <td>0</td>\n",
       "      <td>0</td>\n",
       "      <td>0</td>\n",
       "      <td>0</td>\n",
       "      <td>0</td>\n",
       "      <td>0</td>\n",
       "      <td>0</td>\n",
       "      <td>0</td>\n",
       "      <td>...</td>\n",
       "      <td>73</td>\n",
       "      <td>0</td>\n",
       "      <td>0</td>\n",
       "      <td>0</td>\n",
       "      <td>0</td>\n",
       "      <td>0</td>\n",
       "      <td>0</td>\n",
       "      <td>0</td>\n",
       "      <td>0</td>\n",
       "      <td>0</td>\n",
       "    </tr>\n",
       "    <tr>\n",
       "      <th>59997</th>\n",
       "      <td>8</td>\n",
       "      <td>0</td>\n",
       "      <td>0</td>\n",
       "      <td>0</td>\n",
       "      <td>0</td>\n",
       "      <td>0</td>\n",
       "      <td>0</td>\n",
       "      <td>0</td>\n",
       "      <td>0</td>\n",
       "      <td>0</td>\n",
       "      <td>...</td>\n",
       "      <td>160</td>\n",
       "      <td>162</td>\n",
       "      <td>163</td>\n",
       "      <td>135</td>\n",
       "      <td>94</td>\n",
       "      <td>0</td>\n",
       "      <td>0</td>\n",
       "      <td>0</td>\n",
       "      <td>0</td>\n",
       "      <td>0</td>\n",
       "    </tr>\n",
       "    <tr>\n",
       "      <th>59998</th>\n",
       "      <td>8</td>\n",
       "      <td>0</td>\n",
       "      <td>0</td>\n",
       "      <td>0</td>\n",
       "      <td>0</td>\n",
       "      <td>0</td>\n",
       "      <td>0</td>\n",
       "      <td>0</td>\n",
       "      <td>0</td>\n",
       "      <td>0</td>\n",
       "      <td>...</td>\n",
       "      <td>0</td>\n",
       "      <td>0</td>\n",
       "      <td>0</td>\n",
       "      <td>0</td>\n",
       "      <td>0</td>\n",
       "      <td>0</td>\n",
       "      <td>0</td>\n",
       "      <td>0</td>\n",
       "      <td>0</td>\n",
       "      <td>0</td>\n",
       "    </tr>\n",
       "    <tr>\n",
       "      <th>59999</th>\n",
       "      <td>7</td>\n",
       "      <td>0</td>\n",
       "      <td>0</td>\n",
       "      <td>0</td>\n",
       "      <td>0</td>\n",
       "      <td>0</td>\n",
       "      <td>0</td>\n",
       "      <td>0</td>\n",
       "      <td>0</td>\n",
       "      <td>0</td>\n",
       "      <td>...</td>\n",
       "      <td>0</td>\n",
       "      <td>0</td>\n",
       "      <td>0</td>\n",
       "      <td>0</td>\n",
       "      <td>0</td>\n",
       "      <td>0</td>\n",
       "      <td>0</td>\n",
       "      <td>0</td>\n",
       "      <td>0</td>\n",
       "      <td>0</td>\n",
       "    </tr>\n",
       "  </tbody>\n",
       "</table>\n",
       "<p>60000 rows × 785 columns</p>\n",
       "</div>"
      ],
      "text/plain": [
       "       label  pixel1  pixel2  pixel3  pixel4  pixel5  pixel6  pixel7  pixel8  \\\n",
       "0          2       0       0       0       0       0       0       0       0   \n",
       "1          9       0       0       0       0       0       0       0       0   \n",
       "2          6       0       0       0       0       0       0       0       5   \n",
       "3          0       0       0       0       1       2       0       0       0   \n",
       "4          3       0       0       0       0       0       0       0       0   \n",
       "...      ...     ...     ...     ...     ...     ...     ...     ...     ...   \n",
       "59995      9       0       0       0       0       0       0       0       0   \n",
       "59996      1       0       0       0       0       0       0       0       0   \n",
       "59997      8       0       0       0       0       0       0       0       0   \n",
       "59998      8       0       0       0       0       0       0       0       0   \n",
       "59999      7       0       0       0       0       0       0       0       0   \n",
       "\n",
       "       pixel9  ...  pixel775  pixel776  pixel777  pixel778  pixel779  \\\n",
       "0           0  ...         0         0         0         0         0   \n",
       "1           0  ...         0         0         0         0         0   \n",
       "2           0  ...         0         0         0        30        43   \n",
       "3           0  ...         3         0         0         0         0   \n",
       "4           0  ...         0         0         0         0         0   \n",
       "...       ...  ...       ...       ...       ...       ...       ...   \n",
       "59995       0  ...         0         0         0         0         0   \n",
       "59996       0  ...        73         0         0         0         0   \n",
       "59997       0  ...       160       162       163       135        94   \n",
       "59998       0  ...         0         0         0         0         0   \n",
       "59999       0  ...         0         0         0         0         0   \n",
       "\n",
       "       pixel780  pixel781  pixel782  pixel783  pixel784  \n",
       "0             0         0         0         0         0  \n",
       "1             0         0         0         0         0  \n",
       "2             0         0         0         0         0  \n",
       "3             1         0         0         0         0  \n",
       "4             0         0         0         0         0  \n",
       "...         ...       ...       ...       ...       ...  \n",
       "59995         0         0         0         0         0  \n",
       "59996         0         0         0         0         0  \n",
       "59997         0         0         0         0         0  \n",
       "59998         0         0         0         0         0  \n",
       "59999         0         0         0         0         0  \n",
       "\n",
       "[60000 rows x 785 columns]"
      ]
     },
     "execution_count": 149,
     "metadata": {},
     "output_type": "execute_result"
    }
   ],
   "source": [
    "df_train"
   ]
  },
  {
   "cell_type": "code",
   "execution_count": 150,
   "id": "f26359a2",
   "metadata": {},
   "outputs": [],
   "source": [
    "#Total de datos que quiero tomar de cada base\n",
    "#MAX:60000\n",
    "total_train = 60000\n",
    "#MAX:10000\n",
    "total_test = 10000 "
   ]
  },
  {
   "cell_type": "code",
   "execution_count": 151,
   "id": "51ecb4de",
   "metadata": {},
   "outputs": [
    {
     "name": "stdout",
     "output_type": "stream",
     "text": [
      "Tamaño Train Data: (60000, 784)\n",
      "Tamaño Train Labels: (60000, 1)\n"
     ]
    }
   ],
   "source": [
    "#Separo en labels y datos\n",
    "\n",
    "#Hacer base mas chiquita para probar\n",
    "df_train = df_train[0:total_train]\n",
    "df_test = df_test[0:total_test]\n",
    "\n",
    "train_data = df_train[df_train.columns[1:]].values\n",
    "train_labels = df_train[\"label\"].values.reshape(-1, 1)\n",
    "\n",
    "print(\"Tamaño Train Data:\", train_data.shape)\n",
    "print(\"Tamaño Train Labels:\", train_labels.shape)"
   ]
  },
  {
   "cell_type": "code",
   "execution_count": 152,
   "id": "2db408ac",
   "metadata": {},
   "outputs": [
    {
     "name": "stdout",
     "output_type": "stream",
     "text": [
      "Tamaño Test Data: (10000, 784)\n",
      "Tamaño Test Labels: (10000, 1)\n"
     ]
    }
   ],
   "source": [
    "#Separo en labels y datos\n",
    "\n",
    "test_data = df_test[df_train.columns[1:]].values\n",
    "test_labels = df_test[\"label\"].values.reshape(-1, 1)\n",
    "\n",
    "print(\"Tamaño Test Data:\", test_data.shape)\n",
    "print(\"Tamaño Test Labels:\", test_labels.shape)"
   ]
  },
  {
   "cell_type": "code",
   "execution_count": 153,
   "id": "a0527d6c",
   "metadata": {},
   "outputs": [
    {
     "name": "stdout",
     "output_type": "stream",
     "text": [
      "Veo como es un dato aleatorio en 'formato imagen'\n",
      "Dato numero:  26597\n",
      "La imagen es:  Bag\n"
     ]
    },
    {
     "data": {
      "image/png": "[encoded data removed]",
      "text/plain": [
       "<Figure size 432x288 with 1 Axes>"
      ]
     },
     "metadata": {
      "needs_background": "light"
     },
     "output_type": "display_data"
    }
   ],
   "source": [
    "print(\"Veo como es un dato aleatorio en 'formato imagen'\")\n",
    "\n",
    "num = random.randint(0, total_train - 1)\n",
    "\n",
    "print(\"Dato numero: \", num)\n",
    "\n",
    "image = train_data[num].reshape(28,28)\n",
    "\n",
    "plt.imshow(image, cmap=\"Greys\")\n",
    "\n",
    "print(\"La imagen es: \", clothes[train_labels[num][0]][1])"
   ]
  },
  {
   "cell_type": "markdown",
   "id": "58c1455c",
   "metadata": {},
   "source": [
    "### Balance de la base"
   ]
  },
  {
   "cell_type": "code",
   "execution_count": 154,
   "id": "f0a30a7f",
   "metadata": {},
   "outputs": [
    {
     "name": "stdout",
     "output_type": "stream",
     "text": [
      "Labels de cada dato\n"
     ]
    },
    {
     "data": {
      "text/plain": [
       "0        2\n",
       "1        9\n",
       "2        6\n",
       "3        0\n",
       "4        3\n",
       "        ..\n",
       "59995    9\n",
       "59996    1\n",
       "59997    8\n",
       "59998    8\n",
       "59999    7\n",
       "Name: label, Length: 60000, dtype: int64"
      ]
     },
     "execution_count": 154,
     "metadata": {},
     "output_type": "execute_result"
    }
   ],
   "source": [
    "print(\"Labels de cada dato\")\n",
    "df_train[\"label\"]"
   ]
  },
  {
   "cell_type": "code",
   "execution_count": 155,
   "id": "c2b39e8f",
   "metadata": {},
   "outputs": [
    {
     "name": "stdout",
     "output_type": "stream",
     "text": [
      "Porcentajes de cada tipo de prenda en la base\n"
     ]
    },
    {
     "data": {
      "text/plain": [
       "0    0.1\n",
       "1    0.1\n",
       "2    0.1\n",
       "3    0.1\n",
       "4    0.1\n",
       "5    0.1\n",
       "6    0.1\n",
       "7    0.1\n",
       "8    0.1\n",
       "9    0.1\n",
       "Name: label, dtype: float64"
      ]
     },
     "execution_count": 155,
     "metadata": {},
     "output_type": "execute_result"
    }
   ],
   "source": [
    "print(\"Porcentajes de cada tipo de prenda en la base\")\n",
    "df_train[\"label\"].value_counts(normalize = True)"
   ]
  },
  {
   "cell_type": "markdown",
   "id": "82264a93",
   "metadata": {},
   "source": [
    "## KNN sin PCA"
   ]
  },
  {
   "cell_type": "code",
   "execution_count": 156,
   "id": "d15bafc4",
   "metadata": {},
   "outputs": [],
   "source": [
    "numero_ejecuciones = 10"
   ]
  },
  {
   "cell_type": "code",
   "execution_count": 157,
   "id": "4794d1d0",
   "metadata": {},
   "outputs": [
    {
     "name": "stdout",
     "output_type": "stream",
     "text": [
      "Ejecucion 1\n",
      "13.860377409000648\n",
      "Tiempo:  13.860377409000648 \n",
      "\n",
      "Ejecucion 2\n",
      "13.458065648001138\n",
      "Tiempo:  13.458065648001138 \n",
      "\n",
      "Ejecucion 3\n",
      "13.6219268320001\n",
      "Tiempo:  13.6219268320001 \n",
      "\n",
      "Ejecucion 4\n",
      "13.462477201999718\n",
      "Tiempo:  13.462477201999718 \n",
      "\n",
      "Ejecucion 5\n",
      "13.605903680001575\n",
      "Tiempo:  13.605903680001575 \n",
      "\n",
      "Ejecucion 6\n",
      "13.546403857000769\n",
      "Tiempo:  13.546403857000769 \n",
      "\n",
      "Ejecucion 7\n",
      "13.823168524999346\n",
      "Tiempo:  13.823168524999346 \n",
      "\n",
      "Ejecucion 8\n",
      "13.678674456999943\n",
      "Tiempo:  13.678674456999943 \n",
      "\n",
      "Ejecucion 9\n",
      "13.876259861001017\n",
      "Tiempo:  13.876259861001017 \n",
      "\n",
      "Ejecucion 10\n",
      "13.545996990000276\n",
      "Tiempo:  13.545996990000276 \n",
      "\n",
      "Media de tiempo de ejecucion knn:  13.647925446100453 segundos\n",
      "Tiempo total: 136.47925446100453 segundos\n"
     ]
    }
   ],
   "source": [
    "#Mis datos de train son train_data y train_labels y mis datos de test son test_data y test_labels\n",
    "\n",
    "#Elijo el n para KNN\n",
    "n = 10\n",
    "knn = KNeighborsClassifier(n)\n",
    "times = np.array([])\n",
    "\n",
    "for i in range(numero_ejecuciones):\n",
    "    print(\"Ejecucion\", i+1)\n",
    "    #empiezo a contar el tiempo\n",
    "    start = time.perf_counter()\n",
    "\n",
    "    #knn\n",
    "    knn.fit(train_data, train_labels.flatten())\n",
    "    res_knn = knn.predict(test_data)\n",
    "\n",
    "    #termino de contar el tiempo\n",
    "    end = time.perf_counter()\n",
    "    print(end-start)\n",
    "    print(\"Tiempo: \", end - start, \"\\n\")\n",
    "    times = np.append(times, [end-start])\n",
    "\n",
    "print(\"Media de tiempo de ejecucion knn: \", np.mean(times), \"segundos\")\n",
    "\n",
    "print(\"Tiempo total:\", np.sum(times), \"segundos\")\n"
   ]
  },
  {
   "cell_type": "markdown",
   "id": "faf335fc",
   "metadata": {},
   "source": [
    "### Metricas"
   ]
  },
  {
   "cell_type": "code",
   "execution_count": 158,
   "id": "9c85634e",
   "metadata": {},
   "outputs": [
    {
     "name": "stdout",
     "output_type": "stream",
     "text": [
      "Con 60000 datos de train y 10000 datos de test \n"
     ]
    }
   ],
   "source": [
    "print(\"Con\", train_data.shape[0] ,\"datos de train y\", test_data.shape[0] ,\"datos de test \")"
   ]
  },
  {
   "cell_type": "code",
   "execution_count": 159,
   "id": "c1c148cf",
   "metadata": {},
   "outputs": [
    {
     "name": "stdout",
     "output_type": "stream",
     "text": [
      "Accuracy: 0.8573\n"
     ]
    }
   ],
   "source": [
    "print(\"Accuracy:\", accuracy_score(res_knn, test_labels))"
   ]
  },
  {
   "cell_type": "code",
   "execution_count": 160,
   "id": "77ba1c7c",
   "metadata": {},
   "outputs": [
    {
     "name": "stdout",
     "output_type": "stream",
     "text": [
      "Cohen Kappa: 0.8414444444444444\n",
      "Recall: 0.8573\n",
      "F1: 0.8573\n"
     ]
    }
   ],
   "source": [
    "print(\"Cohen Kappa:\", cohen_kappa_score(res_knn, test_labels))\n",
    "print(\"Recall:\", recall_score(res_knn, test_labels, average ='micro'))\n",
    "print(\"F1:\", f1_score(res_knn, test_labels, average ='micro'))"
   ]
  },
  {
   "cell_type": "markdown",
   "id": "51fc181b",
   "metadata": {},
   "source": [
    "### Comparacion de las predicciones con los valores reales de los datos de test"
   ]
  },
  {
   "cell_type": "code",
   "execution_count": 161,
   "id": "d69f25b1",
   "metadata": {},
   "outputs": [
    {
     "data": {
      "text/plain": [
       "Text(0.5, 1.0, 'Valores Reales: Cantidad de Imagenes por Tipo de Prenda')"
      ]
     },
     "execution_count": 161,
     "metadata": {},
     "output_type": "execute_result"
    },
    {
     "data": {
      "image/png": "[encoded data removed]",
      "text/plain": [
       "<Figure size 432x288 with 1 Axes>"
      ]
     },
     "metadata": {
      "needs_background": "light"
     },
     "output_type": "display_data"
    }
   ],
   "source": [
    "count_original = np.bincount(test_labels.flatten())\n",
    "a = np.arange(10)\n",
    "\n",
    "fig, ax = plt.subplots()\n",
    "p1 = ax.bar(a, count_original, 0.75)\n",
    "ax.set_xticks(a)\n",
    "ax.bar_label(p1)\n",
    "\n",
    "plt.xlabel(\"Tipo de Prenda\")\n",
    "plt.ylabel(\"Cantidad de Imagenes\")\n",
    "plt.title(\"Valores Reales: Cantidad de Imagenes por Tipo de Prenda\")"
   ]
  },
  {
   "cell_type": "code",
   "execution_count": 162,
   "id": "5451cac7",
   "metadata": {},
   "outputs": [
    {
     "data": {
      "text/plain": [
       "Text(0.5, 1.0, 'Prediccion: Cantidad de Imagenes por Tipo de Prenda')"
      ]
     },
     "execution_count": 162,
     "metadata": {},
     "output_type": "execute_result"
    },
    {
     "data": {
      "image/png": "[encoded data removed]",
      "text/plain": [
       "<Figure size 432x288 with 1 Axes>"
      ]
     },
     "metadata": {
      "needs_background": "light"
     },
     "output_type": "display_data"
    }
   ],
   "source": [
    "count_res = np.bincount(res_knn.flatten())\n",
    "a = np.arange(10)\n",
    "\n",
    "fig, ax = plt.subplots()\n",
    "p2 = ax.bar(a, count_res, 0.75)\n",
    "ax.set_xticks(a)\n",
    "ax.bar_label(p2)\n",
    "\n",
    "plt.xlabel(\"Tipo de Prenda\")\n",
    "plt.ylabel(\"Cantidad de Imagenes\")\n",
    "plt.title(\"Prediccion: Cantidad de Imagenes por Tipo de Prenda\")"
   ]
  },
  {
   "cell_type": "markdown",
   "id": "165fac40",
   "metadata": {},
   "source": [
    "## KNN Con PCA"
   ]
  },
  {
   "cell_type": "code",
   "execution_count": 163,
   "id": "c36015a2",
   "metadata": {},
   "outputs": [
    {
     "name": "stdout",
     "output_type": "stream",
     "text": [
      "Ejecucion 1\n",
      "Tiempo:  1.5075269549997756 \n",
      "\n",
      "Ejecucion 2\n",
      "Tiempo:  1.5081132699997397 \n",
      "\n",
      "Ejecucion 3\n",
      "Tiempo:  1.5196014670000295 \n",
      "\n",
      "Ejecucion 4\n",
      "Tiempo:  1.4707590449997952 \n",
      "\n",
      "Ejecucion 5\n",
      "Tiempo:  1.4686646529989957 \n",
      "\n",
      "Ejecucion 6\n",
      "Tiempo:  1.4747467759989377 \n",
      "\n",
      "Ejecucion 7\n",
      "Tiempo:  1.501640693999434 \n",
      "\n",
      "Ejecucion 8\n",
      "Tiempo:  1.4851196249983332 \n",
      "\n",
      "Ejecucion 9\n",
      "Tiempo:  1.4673165600015636 \n",
      "\n",
      "Ejecucion 10\n",
      "Tiempo:  1.4631552819992066 \n",
      "\n",
      "Media de tiempo de ejecucion knn:  1.486664432699581 segundos\n",
      "Tiempo total: 16.041439539994826 segundos\n"
     ]
    }
   ],
   "source": [
    "pca = PCA(15)\n",
    "knn = KNeighborsClassifier(10)\n",
    "\n",
    "#cuento el tiempo que tardo en hacer pca\n",
    "start = time.perf_counter()\n",
    "\n",
    "#aplico pca a los datos\n",
    "pca.fit(train_data)\n",
    "train_pca = pca.transform(train_data)\n",
    "test_pca = pca.transform(test_data)\n",
    "\n",
    "end = time.perf_counter()\n",
    "pca_time = end - start \n",
    "\n",
    "times = np.array([])\n",
    "\n",
    "for i in range(numero_ejecuciones):\n",
    "    print(\"Ejecucion\", i+1)\n",
    "    start = time.perf_counter()\n",
    "    #hago knn\n",
    "    knn.fit(train_pca, train_labels.flatten())\n",
    "    res_pca = knn.predict(test_pca)\n",
    "\n",
    "    #Termino de contar el tiempo\n",
    "    end = time.perf_counter()\n",
    "    print(\"Tiempo: \", end - start, \"\\n\")\n",
    "    times = np.append(times, [end-start])\n",
    "\n",
    "print(\"Media de tiempo de ejecucion knn: \", np.mean(times), \"segundos\")\n",
    "print(\"Tiempo total:\", np.sum(times) + pca_time, \"segundos\")"
   ]
  },
  {
   "cell_type": "markdown",
   "id": "3d396e3f",
   "metadata": {},
   "source": [
    "### Metricas"
   ]
  },
  {
   "cell_type": "code",
   "execution_count": 164,
   "id": "faf327bf",
   "metadata": {},
   "outputs": [
    {
     "name": "stdout",
     "output_type": "stream",
     "text": [
      "Con 60000 datos de train y 10000 datos de test \n"
     ]
    }
   ],
   "source": [
    "print(\"Con\", train_data.shape[0] ,\"datos de train y\", test_data.shape[0] ,\"datos de test \")"
   ]
  },
  {
   "cell_type": "code",
   "execution_count": 165,
   "id": "14fb5a94",
   "metadata": {},
   "outputs": [
    {
     "name": "stdout",
     "output_type": "stream",
     "text": [
      "Accuracy: 0.8382\n"
     ]
    }
   ],
   "source": [
    "print(\"Accuracy:\", accuracy_score(res_pca, test_labels))"
   ]
  },
  {
   "cell_type": "code",
   "execution_count": 166,
   "id": "7aa71efe",
   "metadata": {},
   "outputs": [
    {
     "name": "stdout",
     "output_type": "stream",
     "text": [
      "Cohen Kappa: 0.8202222222222222\n",
      "Recall: 0.8382\n",
      "F1: 0.8382\n"
     ]
    }
   ],
   "source": [
    "print(\"Cohen Kappa:\", cohen_kappa_score(res_pca, test_labels))\n",
    "print(\"Recall:\", recall_score(res_pca, test_labels, average ='micro'))\n",
    "print(\"F1:\", f1_score(res_pca, test_labels, average ='micro'))"
   ]
  },
  {
   "cell_type": "code",
   "execution_count": 167,
   "id": "b2d4474f",
   "metadata": {},
   "outputs": [
    {
     "data": {
      "text/plain": [
       "Text(0.5, 1.0, 'Prediccion: Cantidad de Imagenes por Tipo de Prenda')"
      ]
     },
     "execution_count": 167,
     "metadata": {},
     "output_type": "execute_result"
    },
    {
     "data": {
      "image/png": "[encoded data removed]",
      "text/plain": [
       "<Figure size 432x288 with 1 Axes>"
      ]
     },
     "metadata": {
      "needs_background": "light"
     },
     "output_type": "display_data"
    }
   ],
   "source": [
    "count_res = np.bincount(res_pca.flatten())\n",
    "a = np.arange(10)\n",
    "\n",
    "fig, ax = plt.subplots()\n",
    "p2 = ax.bar(a, count_res, 0.75)\n",
    "ax.set_xticks(a)\n",
    "ax.bar_label(p2)\n",
    "\n",
    "plt.xlabel(\"Tipo de Prenda\")\n",
    "plt.ylabel(\"Cantidad de Imagenes\")\n",
    "plt.title(\"Prediccion: Cantidad de Imagenes por Tipo de Prenda\")"
   ]
  },
  {
   "cell_type": "code",
   "execution_count": null,
   "id": "fbf39c9e",
   "metadata": {},
   "outputs": [],
   "source": []
  }
 ],
 "metadata": {
  "kernelspec": {
   "display_name": "Python 3 (ipykernel)",
   "language": "python",
   "name": "python3"
  },
  "language_info": {
   "codemirror_mode": {
    "name": "ipython",
    "version": 3
   },
   "file_extension": ".py",
   "mimetype": "text/x-python",
   "name": "python",
   "nbconvert_exporter": "python",
   "pygments_lexer": "ipython3",
   "version": "3.8.8"
  }
 },
 "nbformat": 4,
 "nbformat_minor": 5
}
